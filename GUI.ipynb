{
 "cells": [
  {
   "cell_type": "code",
   "execution_count": 2,
   "id": "24c6f445-9772-4e64-bb4f-d2023252d390",
   "metadata": {},
   "outputs": [],
   "source": [
    "import numpy as np\n",
    "import matplotlib.pyplot as plt\n",
    "import cv2\n",
    "from sklearn.model_selection import train_test_split\n",
    "import pickle\n",
    "import os\n",
    "import pandas as pd\n",
    "import random\n",
    "import PIL as image_lib\n",
    "import tensorflow as tf\n",
    "import seaborn as sns\n",
    "from PIL import Image\n",
    "import tkinter as tk\n",
    "from tkinter import filedialog\n",
    "from tkinter import *\n",
    "from PIL import ImageTk, Image\n",
    "import numpy\n",
    "#load the trained model to classify sign\n",
    "from keras.models import load_model"
   ]
  },
  {
   "cell_type": "code",
   "execution_count": 3,
   "id": "aaaaf4a5-e67b-4296-9e39-ad22e9c509f4",
   "metadata": {},
   "outputs": [],
   "source": [
    "# Function to resize an image with aspect ratio preservation\n",
    "def resize_image_with_aspect_ratio(image, target_size=(64, 64)):\n",
    "    # Convert the image from BGR to RGB color space\n",
    "    image_rgb = cv2.cvtColor(image, cv2.COLOR_BGR2RGB)\n",
    "    \n",
    "    # Get the original image dimensions\n",
    "    original_height, original_width = image.shape[:2]\n",
    "\n",
    "    # Calculate the aspect ratio of the original image\n",
    "    aspect_ratio = original_width / original_height\n",
    "\n",
    "    # Calculate new dimensions while maintaining aspect ratio\n",
    "    target_width, target_height, _ = target_size\n",
    "    if aspect_ratio > 1:\n",
    "        new_width = target_width\n",
    "        new_height = int(target_width / aspect_ratio)\n",
    "    else:\n",
    "        new_height = target_height\n",
    "        new_width = int(target_height * aspect_ratio)\n",
    "\n",
    "    # Resize the image using bilinear interpolation to maintain colors\n",
    "    resized_image = cv2.resize(image, (new_width, new_height), interpolation=cv2.INTER_LINEAR)\n",
    "\n",
    "    # Create an empty canvas of the target size\n",
    "    canvas = np.zeros((target_height, target_width, 3), dtype=np.uint8)\n",
    "\n",
    "    # Calculate the position to paste the resized image\n",
    "    x_offset = (target_width - new_width) // 2\n",
    "    y_offset = (target_height - new_height) // 2\n",
    "\n",
    "    # Paste the resized image onto the canvas\n",
    "    canvas[y_offset:y_offset + new_height, x_offset:x_offset + new_width, :] = resized_image\n",
    "    \n",
    "    # Convert the canvas back to BGR color space\n",
    "    canvas_bgr = cv2.cvtColor(canvas, cv2.COLOR_RGB2BGR)\n",
    "    \n",
    "    # Normalize pixel values to the range [0, 1]\n",
    "    normalized_image = canvas_bgr / 255.0\n",
    "    \n",
    "    return normalized_image"
   ]
  },
  {
   "cell_type": "code",
   "execution_count": 7,
   "id": "0bb8ae35-e830-4b2a-b757-014b1adc058a",
   "metadata": {},
   "outputs": [],
   "source": [
    "model = load_model(r'TrainedModel\\resnet50_model_epoch50.h5')"
   ]
  },
  {
   "cell_type": "code",
   "execution_count": 4,
   "id": "c40408db-12c6-4b29-bbde-8c3c6fee0755",
   "metadata": {},
   "outputs": [],
   "source": [
    "#dictionary to label all traffic signs class.\n",
    "classes = { 0:'Speed limit (5km/h)', 1:'Speed limit (15km/h)', 2:'Speed limit (30km/h)', 3:'Speed limit (40km/h)', 4:'Speed limit (50km/h)',\n",
    "           5:'Speed limit (60km/h)', 6:'Speed limit (70km/h)', 7:'Speed limit (80km/h)', 8:'No Straight Through/Left ', 9:'No Straight Through/Right',\n",
    "           10:'No Straight Through', 11:'No Left Turn', 12:'No Left/Right Turn', 13:'No right Turn', 14:'No Overtaking', 15:'No U-Turn',\n",
    "           16:'No Vehicles', 17:'No-Honking', 18:'Speed limit (40km/h)', 19:'Speed limit (50km/h)', 20:'Dangerous curve to the right',\n",
    "           21:'One Way ', 22:'Turn Left ahead', 23:'Turn Left/Right', 24:'Turn right ahead', 25:'Keep Left', 26:'Keep Right', 27:'Roundabout', \n",
    "           28:'Mandatory lane for cars', 29:'Honking Mandatory', 30:'Cyclist path', 31:'U-Turn', 32:'Obstacle Warning', 33:'Traffic Light Ahead',\n",
    "           34:'Cars Not Allowed', 35:'Pedestrain Crossing', 36:'Cyclist Warning', 37:'Child Warning', 38:'Road Right Bend', 39:'Road Left Bend', \n",
    "           40:'Steep Descent Ahead', 41:'Steep Ascent  Ahead', 42:'Causion High Voltage', 43:'Uncontrolled Crossroad from Right Warning',\n",
    "           44:'Uncontrolled Crossroad from Left Warning', 45:'Housing Area', 46:'Double Curve Ahead Warning', 47:'Rail Crossing', 48:'Road Works Ahead',\n",
    "           49:'Dangerous Road Bends', 50:'Railway Crossing Ahead', 51:'Rear End Collision', 52:'Stop Sign', 53:'No Vehicles Entry',\n",
    "           54:'No parking', 55:'No Entry', 56:'Yield', 57:'Do not Enter'\n",
    "          }#dictionary to label all traffic signs class."
   ]
  },
  {
   "cell_type": "code",
   "execution_count": null,
   "id": "c5015464-e43a-413f-8547-ada6b31c48fa",
   "metadata": {},
   "outputs": [
    {
     "name": "stdout",
     "output_type": "stream",
     "text": [
      "1/1 [==============================] - 2s 2s/step\n",
      "Speed limit (5km/h)\n"
     ]
    }
   ],
   "source": [
    "imageDim = (64, 64, 3)\n",
    "images=[]\n",
    "top=tk.Tk()\n",
    "top.geometry('900x700')\n",
    "top.title('Traffic Sign Classification')\n",
    "top.configure(background='#516091')\n",
    "label=Label(top,background='#516091', font=('arial',20,'bold'))\n",
    "sign_image = Label(top)\n",
    "def classify(file_path):\n",
    "    if file_path:\n",
    "        # Load and preprocess the selected image\n",
    "        image = cv2.imread(file_path)\n",
    "        image = resize_image_with_aspect_ratio(image, target_size=imageDim)\n",
    "        image = np.expand_dims(image, axis=0)  # Add batch dimension\n",
    "        image = image.astype(np.float32)  # Ensure data type is float32\n",
    "        \n",
    "        # Perform classification using the loaded model\n",
    "        result = model.predict(image)\n",
    "        # Assuming the model outputs class probabilities, you can find the predicted class\n",
    "        predicted_class = np.argmax(result)\n",
    "        print(classes[predicted_class])\n",
    "        label.configure(foreground='#facbd3', text=classes[predicted_class],)\n",
    "def show_classify_button(file_path):\n",
    "    classify_b=Button(top,text=\"Classify Image\",command=lambda: classify(file_path),padx=10,pady=5)\n",
    "    classify_b.configure(background='#50717b', foreground='white',font=('arial',10,'bold'))\n",
    "    classify_b.place(relx=0.79,rely=0.46)\n",
    "\n",
    "def upload_image():\n",
    "    try:\n",
    "       file_path=filedialog.askopenfilename()\n",
    "       uploaded=Image.open(file_path)\n",
    "       uploaded.thumbnail(((top.winfo_width()/2.25),(top.winfo_height()/2.25)))\n",
    "       im=ImageTk.PhotoImage(uploaded)\n",
    "       sign_image.configure(image=im)\n",
    "       sign_image.image=im\n",
    "       label.configure(text='')\n",
    "       show_classify_button(file_path)\n",
    "    except:\n",
    "       pass\n",
    "upload=Button(top,text=\"Upload Image\",command=upload_image,padx=10,pady=5)\n",
    "upload.configure(background='#50717b', foreground='white',font=('arial',10,'bold'))\n",
    "upload.pack(side=BOTTOM,pady=50)\n",
    "sign_image.pack(side=BOTTOM,expand=True)\n",
    "label.pack(side=BOTTOM,expand=True)\n",
    "heading = Label(top, text=\"Check Traffic Sign\",pady=20, font=('arial',30,'bold'))\n",
    "heading.configure(background='#516091',foreground='#74bec1')\n",
    "heading.pack()\n",
    "top.mainloop()"
   ]
  },
  {
   "cell_type": "code",
   "execution_count": null,
   "id": "dc036d4c-cbc9-45f0-b951-ac0f764e0027",
   "metadata": {},
   "outputs": [],
   "source": []
  }
 ],
 "metadata": {
  "kernelspec": {
   "display_name": "Python 3 (ipykernel)",
   "language": "python",
   "name": "python3"
  },
  "language_info": {
   "codemirror_mode": {
    "name": "ipython",
    "version": 3
   },
   "file_extension": ".py",
   "mimetype": "text/x-python",
   "name": "python",
   "nbconvert_exporter": "python",
   "pygments_lexer": "ipython3",
   "version": "3.9.17"
  }
 },
 "nbformat": 4,
 "nbformat_minor": 5
}
